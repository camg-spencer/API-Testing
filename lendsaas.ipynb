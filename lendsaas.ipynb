{
 "cells": [
  {
   "cell_type": "code",
   "execution_count": null,
   "metadata": {},
   "outputs": [],
   "source": [
    "# standard libraries\n",
    "import os\n",
    "from datetime import date, timezone\n",
    "import openpyxl\n",
    "\n",
    "# imported libraries\n",
    "import requests\n",
    "from dotenv import load_dotenv\n",
    "import pandas as pd\n",
    "import xlsxwriter"
   ]
  },
  {
   "cell_type": "code",
   "execution_count": null,
   "metadata": {},
   "outputs": [],
   "source": [
    "# specify date range\n",
    "commencement = \"2022-08-03\"\n",
    "today = str(date.today())"
   ]
  },
  {
   "cell_type": "code",
   "execution_count": null,
   "metadata": {},
   "outputs": [],
   "source": [
    "output = os.path.join(os.getcwd(), \"File Outputs\", \"LendSaaS\")"
   ]
  },
  {
   "cell_type": "code",
   "execution_count": null,
   "metadata": {},
   "outputs": [],
   "source": [
    "# load api key & dictate base url\n",
    "\n",
    "load_dotenv()\n",
    "api_key = os.getenv(\"LS_APIKEY\")\n",
    "base_url = \"https://b2bfinancing.lendtech.io/backend/api/partners\""
   ]
  },
  {
   "cell_type": "code",
   "execution_count": null,
   "metadata": {},
   "outputs": [],
   "source": [
    "# get underwriting info within a given date range\n",
    "def get_underwriting_info(start, end):\n",
    "    url = f\"{base_url}/underwriting-info?submittedMinDate={start}&submittedMaxDate={end}\"\n",
    "    uw = requests.get(\n",
    "        url,\n",
    "        headers={\"x-api-key\": api_key}\n",
    "    )\n",
    "    return uw.json()"
   ]
  },
  {
   "cell_type": "code",
   "execution_count": null,
   "metadata": {},
   "outputs": [],
   "source": [
    "# get lead API call based on lead ID in each underwriting submission\n",
    "def get_lead(obj, id):\n",
    "    url = f\"{base_url}/lead/{id}\"\n",
    "    lead = requests.get(\n",
    "        url,\n",
    "        headers={\"x-api-key\": api_key}\n",
    "    )\n",
    "    obj[\"lead\"] = lead.json()"
   ]
  },
  {
   "cell_type": "code",
   "execution_count": null,
   "metadata": {},
   "outputs": [],
   "source": [
    "# get offers API call based on lead ID in each underwriting submission\n",
    "def get_offers(obj, id):\n",
    "    url = f\"{base_url}/offers?leadId={id}\"\n",
    "    offers = requests.get(\n",
    "        url,\n",
    "        headers={\"x-api-key\": api_key}\n",
    "    )\n",
    "    obj[\"offers\"] = offers.json()"
   ]
  },
  {
   "cell_type": "code",
   "execution_count": null,
   "metadata": {},
   "outputs": [],
   "source": [
    "# get positions API call based on lead ID in each underwriting submission\n",
    "def get_positions(obj, id):\n",
    "    url = f\"{base_url}/positions?leadId={id}\"\n",
    "    positions = requests.get(\n",
    "        url,\n",
    "        headers={\"x-api-key\": api_key}\n",
    "    )\n",
    "    obj[\"positions\"] = positions.json()"
   ]
  },
  {
   "cell_type": "code",
   "execution_count": null,
   "metadata": {},
   "outputs": [],
   "source": [
    "# get uw-status history API call based on lead ID in each underwriting submission\n",
    "def get_status_history(obj, id):\n",
    "    url = f\"{base_url}/uw-status-history?leadId={id}\"\n",
    "    status_history = requests.get(\n",
    "        url,\n",
    "        headers={\"x-api-key\": api_key}\n",
    "    )\n",
    "    obj[\"statusList\"] = status_history.json()"
   ]
  },
  {
   "cell_type": "code",
   "execution_count": null,
   "metadata": {},
   "outputs": [],
   "source": [
    "# account monitoring (asset management style data)\n",
    "def get_account_snapshots():\n",
    "    url = f\"{base_url}/snapshots/account-monitoring\"\n",
    "    payload = {\n",
    "        \"amStatusId\": \"1\",\n",
    "        # 1 = Performing\n",
    "        # 2 = Pending\n",
    "        \"includeClosedDeals\": True,\n",
    "        \"includeWriteoffDeals\": True\n",
    "    }\n",
    "    \n",
    "    am = requests.post(\n",
    "        url,\n",
    "        headers={\"x-api-key\": api_key},\n",
    "        json=payload\n",
    "    )\n",
    "\n",
    "    return am.json()\n"
   ]
  },
  {
   "cell_type": "code",
   "execution_count": null,
   "metadata": {},
   "outputs": [],
   "source": [
    "# funding (funding summary)\n",
    "def get_funding_snapshots():\n",
    "    url = f\"{base_url}/snapshots/funding\"\n",
    "    payload = {\n",
    "        \"sdate\":commencement,\n",
    "        \"edate\":today\n",
    "    }\n",
    "    \n",
    "    fundings = requests.post(\n",
    "        url,\n",
    "        headers={\"x-api-key\": api_key},\n",
    "        json=payload\n",
    "    )\n",
    "\n",
    "    return fundings.json()"
   ]
  },
  {
   "cell_type": "markdown",
   "metadata": {},
   "source": []
  },
  {
   "cell_type": "code",
   "execution_count": null,
   "metadata": {},
   "outputs": [],
   "source": [
    "# get transactions from monitored accounts\n",
    "def get_transactions(start, end, obj, id):\n",
    "    url = f\"{base_url}/transactions-details?datePostedMin={start}&datePostedMax={end}&leadOd={id}\"\n",
    "    transactions = requests.get(\n",
    "        url,\n",
    "        headers={\"x-api-key\": api_key}\n",
    "    )\n",
    "    obj[\"transactions\"] = transactions.json()"
   ]
  },
  {
   "cell_type": "code",
   "execution_count": null,
   "metadata": {},
   "outputs": [],
   "source": [
    "# lead level parser for nested info\n",
    "def parse(obj):\n",
    "\n",
    "    # search obj\n",
    "    status = obj[\"currentStatus\"]\n",
    "    lead = obj[\"lead\"]\n",
    "    iso = lead[\"iso\"] or {\"isoName\": \"\", \"baseFactor\": 0, \"upfrontComm\": 0, \"residualComm\": 0, \"backendComm\": 0}\n",
    "\n",
    "    # status\n",
    "    obj[\"ISO Manager\"] = status[\"username\"]\n",
    "\n",
    "    # iso\n",
    "    obj[\"ISO Name\"] = iso[\"isoName\"]\n",
    "    obj[\"Base Factor\"] = iso[\"baseFactor\"]\n",
    "    obj[\"Upfront Comm\"] = iso[\"upfrontComm\"]\n",
    "    obj[\"Residual Comm\"] = iso[\"residualComm\"]\n",
    "    obj[\"Backend Comm\"] = iso[\"backendComm\"]\n",
    "\n",
    "    # lead\n",
    "    obj[\"Legal Name\"] = lead[\"entityName\"]\n",
    "    obj[\"DBA\"] = lead[\"entityDba\"]\n",
    "    obj[\"Address\"] = lead[\"entityAddress1\"]\n",
    "    obj[\"City\"] = lead[\"entityCity\"]\n",
    "    obj[\"State\"] = lead[\"entityState\"]\n",
    "    obj[\"Amount Requested\"] = lead[\"amountRequested\"]\n",
    "    obj[\"Loan Purpose\"] = lead[\"loanPurpose\"]\n",
    "\n",
    "    return obj\n"
   ]
  },
  {
   "cell_type": "code",
   "execution_count": null,
   "metadata": {},
   "outputs": [],
   "source": [
    "# assign names to the numeric underwriting statuses\n",
    "uw_statuses = {\n",
    "    1: \"Pre Underwriting\",\n",
    "    2: \"Initial Underwriting\",\n",
    "    3: \"In Queue\",\n",
    "    4: \"On Hold\",\n",
    "    5: \"Offers Sent\",\n",
    "    6: \"Offer Selected\",\n",
    "    7: \"Contracts Out\",\n",
    "    8: \"Contracts In\",\n",
    "    9: \"Relook\",\n",
    "    10: \"Declined\",\n",
    "    11: \"Funded\",\n",
    "    12: \"Pre Funding\",\n",
    "    13: \"Ready for Pre Underwriting\",\n",
    "    14: \"New Lead\",\n",
    "    15: \"App out\",\n",
    "    16: \"Contract on Hold\",\n",
    "    20: \"Docs Rqd For Offer\",\n",
    "    21: \"PIPE DRIVE\",\n",
    "    22: \"Inactive\",\n",
    "    23: \"Withdrawn\"\n",
    "}"
   ]
  },
  {
   "cell_type": "code",
   "execution_count": null,
   "metadata": {},
   "outputs": [],
   "source": [
    "# pull underwriting info\n",
    "uw_info = get_underwriting_info(commencement, today)"
   ]
  },
  {
   "cell_type": "code",
   "execution_count": null,
   "metadata": {},
   "outputs": [],
   "source": [
    "# get lead info and parse data\n",
    "for lead in uw_info:\n",
    "    get_lead(lead, lead[\"leadId\"])\n",
    "    get_offers(lead, lead[\"leadId\"])\n",
    "    get_positions(lead, lead[\"leadId\"])\n",
    "    get_status_history(lead, lead[\"leadId\"])\n",
    "    parse(lead)"
   ]
  },
  {
   "cell_type": "code",
   "execution_count": null,
   "metadata": {},
   "outputs": [],
   "source": [
    "offers = []\n",
    "statuses = []\n",
    "monthly_bank_totals = []\n",
    "positions = []\n",
    "\n",
    "for lead in uw_info:\n",
    "    offers.extend(lead[\"offers\"])\n",
    "    statuses.extend(lead[\"statusList\"])\n",
    "    positions.extend(lead[\"positions\"])\n",
    "    for month in lead[\"monthlyBankingTotals\"]:\n",
    "        month[\"leadId\"] = lead[\"leadId\"]\n",
    "    monthly_bank_totals.extend(lead[\"monthlyBankingTotals\"])\n",
    "    "
   ]
  },
  {
   "cell_type": "code",
   "execution_count": null,
   "metadata": {},
   "outputs": [],
   "source": [
    "servicing = get_account_snapshots()\n",
    "fundings = get_funding_snapshots()"
   ]
  },
  {
   "cell_type": "code",
   "execution_count": null,
   "metadata": {},
   "outputs": [],
   "source": [
    "deals = servicing[\"deals\"]\n",
    "transactions = []\n",
    "\n",
    "for deal in deals:\n",
    "    get_transactions(commencement, today, deal, deal[\"leadId\"])\n",
    "    transactions.extend(deal[\"transactions\"])"
   ]
  },
  {
   "cell_type": "code",
   "execution_count": null,
   "metadata": {},
   "outputs": [],
   "source": [
    "# deal desk\n",
    "\n",
    "# synds = []\n",
    "\n",
    "# for deal in deals:\n",
    "#     synds.extend(deal[\"syndications\"])"
   ]
  },
  {
   "cell_type": "code",
   "execution_count": null,
   "metadata": {},
   "outputs": [],
   "source": [
    "uw = pd.DataFrame.from_dict(uw_info)\n",
    "of = pd.DataFrame.from_dict(offers)\n",
    "st = pd.DataFrame.from_dict(statuses)\n",
    "mb = pd.DataFrame.from_dict(monthly_bank_totals)\n",
    "po = pd.DataFrame.from_dict(positions)\n",
    "am = pd.DataFrame.from_dict(deals)\n",
    "tx = pd.DataFrame.from_dict(transactions)\n",
    "fd = pd.DataFrame.from_dict(fundings)\n",
    "# dd = pd.DataFrame.from_dict(synds)"
   ]
  },
  {
   "cell_type": "code",
   "execution_count": null,
   "metadata": {},
   "outputs": [],
   "source": [
    "for i, row in uw.iterrows():   \n",
    "    uw.loc[i, \"uwStatus\"] = uw_statuses[row.uwStatus]"
   ]
  },
  {
   "cell_type": "code",
   "execution_count": null,
   "metadata": {},
   "outputs": [],
   "source": [
    "def change_to_utc(time):\n",
    "    return time.astimezone(timezone.utc).date()"
   ]
  },
  {
   "cell_type": "code",
   "execution_count": null,
   "metadata": {},
   "outputs": [],
   "source": [
    "# convert columns to numbers or dates if possible\n",
    "dfs = [uw, of, st, po, mb, am, tx, fd] #dd\n",
    "\n",
    "for df in dfs:\n",
    "    for col in df.columns:\n",
    "        try:\n",
    "            df[col] = df[col].apply(pd.to_numeric)\n",
    "        except:\n",
    "            if col.__contains__(\"Date\"):\n",
    "                try:\n",
    "                    df[col] = df[col].apply(pd.to_datetime)\n",
    "                except:\n",
    "                    continue\n",
    "                try:\n",
    "                    df[col] = df[col].apply(change_to_utc)\n",
    "                except:\n",
    "                    continue\n",
    "            continue"
   ]
  },
  {
   "cell_type": "code",
   "execution_count": null,
   "metadata": {},
   "outputs": [],
   "source": [
    "with pd.ExcelWriter(os.path.join(output, f\"B2B Summary {today}.xlsx\"), engine=\"xlsxwriter\", date_format=\"MM/DD/YYYY\", datetime_format=\"MM/DD/YYYY\") as writer:\n",
    "    \n",
    "    # formats\n",
    "    wb  = writer.book\n",
    "    financial = wb.add_format({'num_format': '_(* #,##0.00_);_(* (#,##0.00);_(* \"-\"??_);_(@_)'})\n",
    "    percent = wb.add_format({'num_format': '0.0000%'})\n",
    "        \n",
    "    # write frames to tabs\n",
    "    uw.to_excel(writer, sheet_name=\"UW Info\", index=False)\n",
    "    of.to_excel(writer, sheet_name=\"Offers\", index=False)\n",
    "    st.to_excel(writer, sheet_name=\"Status History\", index=False)\n",
    "    po.to_excel(writer, sheet_name=\"Positions\", index=False)\n",
    "    mb.to_excel(writer, sheet_name=\"Banking Totals\", index=False)\n",
    "    am.to_excel(writer, sheet_name=\"Accounts\", index=False)\n",
    "    tx.to_excel(writer, sheet_name=\"Transactions\", index=False)\n",
    "    fd.to_excel(writer, sheet_name=\"Fundings\", index=False)\n",
    "    # dd.to_excel(writer, sheet_name=\"Deal Desk\", index=False)\n",
    "    \n",
    "    # FORMAT SHEETS\n",
    "    ## name sheets\n",
    "    uw_tab = writer.sheets[\"UW Info\"]\n",
    "    of_tab = writer.sheets[\"Offers\"]\n",
    "    st_tab = writer.sheets[\"Status History\"]\n",
    "    po_tab = writer.sheets[\"Positions\"]\n",
    "    mb_tab = writer.sheets[\"Banking Totals\"]\n",
    "    am_tab = writer.sheets[\"Accounts\"]\n",
    "    tx_tab = writer.sheets[\"Transactions\"]\n",
    "    fd_tab = writer.sheets[\"Fundings\"]\n",
    "    # dd_tab = writer.sheets[\"Deal Desk\"]\n",
    "    \n",
    "    worksheets = {uw_tab:uw, of_tab:of, st_tab:st, po_tab:po, mb_tab:mb, am_tab:am, tx_tab:tx, fd_tab:fd} # dd_tab:dd, \n",
    "    \n",
    "    for sheet in worksheets.keys():\n",
    "        (max_row, max_col) = worksheets[sheet].shape\n",
    "        sheet.autofilter(0, 0, max_row, max_col - 1)\n",
    "        "
   ]
  },
  {
   "cell_type": "code",
   "execution_count": null,
   "metadata": {},
   "outputs": [],
   "source": []
  }
 ],
 "metadata": {
  "kernelspec": {
   "display_name": "Python 3.10.7 64-bit",
   "language": "python",
   "name": "python3"
  },
  "language_info": {
   "codemirror_mode": {
    "name": "ipython",
    "version": 3
   },
   "file_extension": ".py",
   "mimetype": "text/x-python",
   "name": "python",
   "nbconvert_exporter": "python",
   "pygments_lexer": "ipython3",
   "version": "3.10.7"
  },
  "orig_nbformat": 4,
  "vscode": {
   "interpreter": {
    "hash": "443a06843225bba5fb5dcb311b234c0ad2973a039d9e18c6bbc6e17d70abcc8a"
   }
  }
 },
 "nbformat": 4,
 "nbformat_minor": 2
}
