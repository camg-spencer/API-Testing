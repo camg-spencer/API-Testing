{
 "cells": [
  {
   "cell_type": "code",
   "execution_count": null,
   "metadata": {},
   "outputs": [],
   "source": [
    "import os\n",
    "\n",
    "import requests\n",
    "from dotenv import load_dotenv"
   ]
  },
  {
   "cell_type": "code",
   "execution_count": null,
   "metadata": {},
   "outputs": [],
   "source": [
    "# vergent api url\n",
    "\n",
    "vergent = \"https://iqvs.vergentlms.com/api/api\""
   ]
  },
  {
   "cell_type": "code",
   "execution_count": null,
   "metadata": {},
   "outputs": [],
   "source": [
    "# authenticate function\n",
    "\n",
    "def authenticate(username, password):\n",
    "    post_auth = requests.post(\n",
    "        url=f\"{vergent}/authenticate\",\n",
    "        data={\"LogonName\": username, \"Password\": password})\n",
    "    token = post_auth.json()[\"Token\"]\n",
    "    # get_auth = requests.get(\n",
    "    #     url=f\"{vergent}/Authenticate/GetAuthenticate\",\n",
    "    #     auth=(username, password)\n",
    "    # )\n",
    "    return token\n"
   ]
  },
  {
   "cell_type": "code",
   "execution_count": null,
   "metadata": {},
   "outputs": [],
   "source": [
    "# load username and password\n",
    "\n",
    "load_dotenv()\n",
    "username = os.getenv(\"USERNAME\")\n",
    "password = os.getenv(\"PASSWORD\")"
   ]
  },
  {
   "cell_type": "code",
   "execution_count": null,
   "metadata": {},
   "outputs": [],
   "source": [
    "# run authenticate and retrieve token\n",
    "\n",
    "token = authenticate(username, password)"
   ]
  },
  {
   "cell_type": "code",
   "execution_count": null,
   "metadata": {},
   "outputs": [],
   "source": [
    "# get loan data\n",
    "\n",
    "def get_loan(id):\n",
    "    loan = requests.get(\n",
    "        url=f\"{vergent}/V1/loan/{id}\",\n",
    "        # url=f\"{vergent}/V1/loanentity/{id}\",\n",
    "        headers={\"Token\":token}\n",
    "    )\n",
    "    return loan"
   ]
  },
  {
   "cell_type": "code",
   "execution_count": null,
   "metadata": {},
   "outputs": [],
   "source": [
    "# test\n",
    "\n",
    "loan = get_loan(42)\n",
    "loan.json()"
   ]
  },
  {
   "cell_type": "code",
   "execution_count": null,
   "metadata": {},
   "outputs": [],
   "source": [
    "token"
   ]
  },
  {
   "cell_type": "code",
   "execution_count": null,
   "metadata": {},
   "outputs": [],
   "source": []
  }
 ],
 "metadata": {
  "kernelspec": {
   "display_name": "Python 3.9.6 64-bit",
   "language": "python",
   "name": "python3"
  },
  "language_info": {
   "codemirror_mode": {
    "name": "ipython",
    "version": 3
   },
   "file_extension": ".py",
   "mimetype": "text/x-python",
   "name": "python",
   "nbconvert_exporter": "python",
   "pygments_lexer": "ipython3",
   "version": "3.9.6"
  },
  "orig_nbformat": 4,
  "vscode": {
   "interpreter": {
    "hash": "fd62e46a477eb157cd77f6e9e0247d487c2c43d098df2fab0e02eabd1510b4e1"
   }
  }
 },
 "nbformat": 4,
 "nbformat_minor": 2
}
