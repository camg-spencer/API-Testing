{
 "cells": [
  {
   "cell_type": "code",
   "execution_count": 1,
   "metadata": {},
   "outputs": [],
   "source": [
    "import os\n",
    "import openpyxl\n",
    "\n",
    "import requests\n",
    "import pandas as pd\n",
    "from dotenv import load_dotenv"
   ]
  },
  {
   "cell_type": "code",
   "execution_count": 2,
   "metadata": {},
   "outputs": [],
   "source": [
    "file_in = os.path.join(os.getcwd(), \"File Inputs\", \"Zillow\", \"Sales Tape - 2nd's2 - Sept 2022.xlsx\")\n",
    "file_out = os.path.join(os.getcwd(), \"File Outputs\", \"Zillow\", \"Rocktop 6 - NonPerf Low Values (231).xlsx\")"
   ]
  },
  {
   "cell_type": "code",
   "execution_count": 3,
   "metadata": {},
   "outputs": [],
   "source": [
    "load_dotenv()\n",
    "api_key = os.getenv(\"ZILLOW_APIKEY\")\n",
    "base_url = f\"https://api.bridgedataoutput.com/api/v2/zestimates_v2/zestimates?access_token={api_key}\""
   ]
  },
  {
   "cell_type": "code",
   "execution_count": 4,
   "metadata": {},
   "outputs": [],
   "source": [
    "def get_zillow(address):\n",
    "    try:\n",
    "        res = requests.get(url=f\"{base_url}&address={address}\")\n",
    "    except:\n",
    "        return \"Not Found\"\n",
    "    else:\n",
    "        return res.json()"
   ]
  },
  {
   "cell_type": "code",
   "execution_count": 5,
   "metadata": {},
   "outputs": [],
   "source": [
    "def get_zestimate(res):\n",
    "    try:\n",
    "        info = res[\"bundle\"][0]\n",
    "    except:\n",
    "        return \"Not Found\"\n",
    "    else:\n",
    "        return info[\"zestimate\"]"
   ]
  },
  {
   "cell_type": "code",
   "execution_count": 6,
   "metadata": {},
   "outputs": [],
   "source": [
    "def get_url(res):\n",
    "    try:\n",
    "        info = res[\"bundle\"][0]\n",
    "    except:\n",
    "        return \"Not Found\"\n",
    "    else:\n",
    "        return info[\"zillowUrl\"]"
   ]
  },
  {
   "cell_type": "code",
   "execution_count": 7,
   "metadata": {},
   "outputs": [],
   "source": [
    "df = pd.read_excel(file_in, engine=\"openpyxl\")"
   ]
  },
  {
   "cell_type": "code",
   "execution_count": 8,
   "metadata": {},
   "outputs": [],
   "source": [
    "df[\"Response\"] = df.Address.apply(get_zillow)"
   ]
  },
  {
   "cell_type": "code",
   "execution_count": 9,
   "metadata": {},
   "outputs": [],
   "source": [
    "df[\"Zestimate\"] = df.Response.apply(get_zestimate)\n",
    "df[\"Zillow URL\"] = df.Response.apply(get_url)"
   ]
  },
  {
   "cell_type": "code",
   "execution_count": 10,
   "metadata": {},
   "outputs": [],
   "source": [
    "df.to_excel(file_out)"
   ]
  },
  {
   "cell_type": "code",
   "execution_count": null,
   "metadata": {},
   "outputs": [],
   "source": []
  }
 ],
 "metadata": {
  "kernelspec": {
   "display_name": "Python 3.10.7 64-bit",
   "language": "python",
   "name": "python3"
  },
  "language_info": {
   "codemirror_mode": {
    "name": "ipython",
    "version": 3
   },
   "file_extension": ".py",
   "mimetype": "text/x-python",
   "name": "python",
   "nbconvert_exporter": "python",
   "pygments_lexer": "ipython3",
   "version": "3.10.7"
  },
  "orig_nbformat": 4,
  "vscode": {
   "interpreter": {
    "hash": "443a06843225bba5fb5dcb311b234c0ad2973a039d9e18c6bbc6e17d70abcc8a"
   }
  }
 },
 "nbformat": 4,
 "nbformat_minor": 2
}
