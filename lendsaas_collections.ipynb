{
 "cells": [
  {
   "cell_type": "code",
   "execution_count": 3,
   "metadata": {},
   "outputs": [],
   "source": [
    "# standard libraries\n",
    "import os\n",
    "from datetime import date, datetime\n",
    "import openpyxl\n",
    "\n",
    "# imported libraries\n",
    "import requests\n",
    "from dotenv import load_dotenv\n",
    "import pandas as pd\n",
    "import xlsxwriter"
   ]
  },
  {
   "cell_type": "code",
   "execution_count": 4,
   "metadata": {},
   "outputs": [],
   "source": [
    "# global vars \n",
    "\n",
    "load_dotenv()\n",
    "output = os.path.join(os.getcwd(), \"File Outputs\", \"LendSaaS\")\n",
    "api_key = os.getenv(\"LS_APIKEY\")\n",
    "base_url = \"https://b2bfinancing.lendtech.io/backend/api/partners\"\n",
    "\n",
    "# specify date range\n",
    "commencement = \"2022-08-03\"\n",
    "run_date = \"2022-\"\n",
    "today = str(date.today())\n"
   ]
  },
  {
   "cell_type": "code",
   "execution_count": 5,
   "metadata": {},
   "outputs": [],
   "source": [
    "# get leads info\n",
    "def get_leads(start, end):\n",
    "    url = f\"{base_url}/leads?submittedMinDate={start}&submittedMaxDate={end}\"\n",
    "    leads = requests.get(\n",
    "        url,\n",
    "        headers={\"x-api-key\": api_key}\n",
    "    )\n",
    "    return leads.json()"
   ]
  },
  {
   "cell_type": "code",
   "execution_count": 6,
   "metadata": {},
   "outputs": [],
   "source": [
    "# get offers API\n",
    "def get_offers(obj, id):\n",
    "    url = f\"{base_url}/offers?leadId={id}\"\n",
    "    offers = requests.get(\n",
    "        url,\n",
    "        headers={\"x-api-key\": api_key}\n",
    "    )\n",
    "    obj[\"offers\"] = offers.json()"
   ]
  },
  {
   "cell_type": "code",
   "execution_count": 7,
   "metadata": {},
   "outputs": [],
   "source": [
    "# funding (funding summary)\n",
    "def get_funding_snapshots():\n",
    "    url = f\"{base_url}/snapshots/funding\"\n",
    "    payload = {\n",
    "        \"sdate\":commencement,\n",
    "        \"edate\":today\n",
    "    }\n",
    "    \n",
    "    fundings = requests.post(\n",
    "        url,\n",
    "        headers={\"x-api-key\": api_key},\n",
    "        json=payload\n",
    "    )\n",
    "\n",
    "    return fundings.json()"
   ]
  },
  {
   "cell_type": "code",
   "execution_count": 8,
   "metadata": {},
   "outputs": [],
   "source": [
    "# account monitoring (asset management style data)\n",
    "def get_account_snapshots():\n",
    "    url = f\"{base_url}/snapshots/account-monitoring\"\n",
    "    payload = {\n",
    "        \"amStatusId\": \"1\",\n",
    "        # 1 = Performing\n",
    "        # 2 = Pending\n",
    "        \"includeClosedDeals\": True,\n",
    "        \"includeWriteoffDeals\": True\n",
    "    }\n",
    "    \n",
    "    am = requests.post(\n",
    "        url,\n",
    "        headers={\"x-api-key\": api_key},\n",
    "        json=payload\n",
    "    )\n",
    "\n",
    "    return am.json()\n",
    "\n",
    "# Turtle$$1"
   ]
  },
  {
   "cell_type": "code",
   "execution_count": 9,
   "metadata": {},
   "outputs": [],
   "source": [
    "# lead level parser for nested info\n",
    "def parse(obj):\n",
    "\n",
    "    # search obj\n",
    "    iso = obj[\"iso\"] or {\"isoName\": \"\", \"baseFactor\": 0, \"upfrontComm\": 0, \"residualComm\": 0, \"backendComm\": 0}\n",
    "\n",
    "    # iso\n",
    "    obj[\"ISO Name\"] = iso[\"isoName\"]\n",
    "    obj[\"Base Factor\"] = iso[\"baseFactor\"]\n",
    "    obj[\"Upfront Comm\"] = iso[\"upfrontComm\"]\n",
    "    obj[\"Residual Comm\"] = iso[\"residualComm\"]\n",
    "    obj[\"Backend Comm\"] = iso[\"backendComm\"]\n",
    "\n",
    "    return obj\n"
   ]
  },
  {
   "cell_type": "code",
   "execution_count": 10,
   "metadata": {},
   "outputs": [],
   "source": [
    "leads = get_leads(commencement, today)"
   ]
  },
  {
   "cell_type": "code",
   "execution_count": 11,
   "metadata": {},
   "outputs": [],
   "source": [
    "# get lead info\n",
    "for lead in leads:\n",
    "    get_offers(lead, lead[\"leadId\"])"
   ]
  },
  {
   "cell_type": "code",
   "execution_count": 12,
   "metadata": {},
   "outputs": [],
   "source": [
    "servicing = get_account_snapshots()"
   ]
  },
  {
   "cell_type": "code",
   "execution_count": 13,
   "metadata": {},
   "outputs": [],
   "source": [
    "fundings = get_funding_snapshots()"
   ]
  },
  {
   "cell_type": "code",
   "execution_count": 14,
   "metadata": {},
   "outputs": [],
   "source": [
    "# parse data and create offers json\n",
    "\n",
    "offers = []\n",
    "\n",
    "for lead in leads:\n",
    "    offers.extend(lead[\"offers\"])\n",
    "    parse(lead)"
   ]
  },
  {
   "cell_type": "code",
   "execution_count": 15,
   "metadata": {},
   "outputs": [],
   "source": [
    "selected_offers = list(filter(lambda x: x[\"selectedTimestamp\"] != \"0\", offers))"
   ]
  },
  {
   "cell_type": "code",
   "execution_count": 16,
   "metadata": {},
   "outputs": [],
   "source": [
    "ld = pd.DataFrame.from_dict(leads)\n",
    "of = pd.DataFrame.from_dict(selected_offers)\n",
    "fn = pd.DataFrame.from_dict(fundings)\n",
    "sv = pd.DataFrame.from_dict(servicing[\"deals\"])"
   ]
  },
  {
   "cell_type": "code",
   "execution_count": 17,
   "metadata": {},
   "outputs": [
    {
     "name": "stdout",
     "output_type": "stream",
     "text": [
      "fundedDate\n",
      "entityStartDate\n",
      "selectedTimestamp\n",
      "lastPaymentDate\n",
      "lastReturnDate\n",
      "minFollowupDate\n",
      "lastReturnDatePretty\n",
      "lastPaymentDatePretty\n",
      "fundedDate\n",
      "writeoffDate\n",
      "lastNoteDate\n",
      "collectionDate\n",
      "payoffLetterDate\n",
      "amStatusDate\n",
      "expectedPayoffDate\n",
      "defaultDate\n",
      "fundedDate\n"
     ]
    }
   ],
   "source": [
    "# convert columns to numbers or dates if possible\n",
    "dfs = [ld, of, sv, fn] #dd\n",
    "\n",
    "for df in dfs:\n",
    "    for col in df.columns:\n",
    "        if (col.__contains__(\"Date\") | col.__contains__(\"Time\")):\n",
    "            try:\n",
    "                df[col] = df[col].apply(datetime.fromtimestamp)\n",
    "            except TypeError:                \n",
    "                continue\n",
    "            finally:\n",
    "                print(col)\n",
    "    \n",
    "    for col in df.columns:\n",
    "        try:\n",
    "            df[col] = df[col].apply(pd.to_numeric)\n",
    "        except:\n",
    "            continue"
   ]
  },
  {
   "cell_type": "code",
   "execution_count": 18,
   "metadata": {},
   "outputs": [],
   "source": [
    "fd = fn.merge(of, on=\"leadId\", how=\"left\", suffixes=('', '_remove')).merge(ld, on=\"leadId\", how=\"left\", suffixes=('', '_remove')).merge(sv, on=\"leadId\", how=\"left\", suffixes=('', '_remove'))"
   ]
  },
  {
   "cell_type": "code",
   "execution_count": 23,
   "metadata": {},
   "outputs": [],
   "source": [
    "summary = {\n",
    "    \"leadId\": \"Lead ID\",\n",
    "    \"entityName\": \"Company Name\",\n",
    "    \"entityCity\": \"City\",\n",
    "    \"entityState\": \"State\",\n",
    "    \"dateSubmitted\": \"Submitted Date\",\n",
    "    \"fundedDate\": \"Funded Date\",\n",
    "    \"amStatus\": \"AM Status\",\n",
    "    \"amStatusDate\": \"AM Status Date\",\n",
    "    \"dealStatus\": \"Deal Status\",\n",
    "    \"category\": \"Category\",\n",
    "    \"advanceAmount\": \"Advance Amount\",\n",
    "    \"rtrAmount\": \"RTR Amount\",\n",
    "    \"buyRate\": \"Buy Rate\",\n",
    "    \"sellRate\": \"Sell Rate\",\n",
    "    \"totalUpfrontFees_remove\": \"Origination Fee Revenue\",\n",
    "    \"totalCommissionAmount\": \"Commission Expense\",\n",
    "    \"paymentAmount\": \"Payment\",\n",
    "    \"paymentFrequency\": \"Payment Frequency\",\n",
    "    \"antDays\": \"Term (Days)\",\n",
    "    \"antTermMonths\": \"Term (Months)\",\n",
    "    \"lastPaymentDatePretty\": \"Last Payment Date\",\n",
    "    \"daysSinceLastPayment\": \"Days Since Last Payment\",\n",
    "    \"variance\": \"Variance\",\n",
    "    \"last7DayVariance\": \"Variance - Last 7 Days ($)\",\n",
    "    \"last7DayVariancePercent\": \"Variance - Last 7 Days (%)\",\n",
    "    \"antCollected30\": \"Estimated Collections - Last 30 Days\", \n",
    "    \"collected30\": \"Actual Collections - Last 30 Days\", \n",
    "    \"last30DayVariance\": \"Variance - Last 30 Days ($)\", \n",
    "    \"last30DayVariancePercent\": \"Variance - Last 30 Days (%)\",\n",
    "    \"countPaymentsAttempted\": \"Payments Attempted\",\n",
    "    \"returnCount\": \"Bounced Payments\",\n",
    "    \"returnRate\": \"Bounce Rate\",\n",
    "    \"totalCollected\": \"Total Collected\",\n",
    "    \"activeFeesBalance\": \"Active Fees\",\n",
    "}\n",
    "\n",
    "keep_cols = []\n",
    "\n",
    "for col in summary.keys():\n",
    "    keep_cols.append(col)\n",
    "    \n",
    "final = fd[keep_cols].rename(columns=summary)"
   ]
  },
  {
   "cell_type": "code",
   "execution_count": 25,
   "metadata": {},
   "outputs": [],
   "source": [
    "with pd.ExcelWriter(os.path.join(output, f\"B2B Servicing Summary {today}.xlsx\"), engine=\"xlsxwriter\", date_format=\"MM/DD/YYYY\", datetime_format=\"MM/DD/YYYY\") as writer:\n",
    "    \n",
    "    # formats\n",
    "    wb  = writer.book\n",
    "    financial = wb.add_format({'num_format': '_(* #,##0.00_);_(* (#,##0.00);_(* \"-\"??_);_(@_)'})\n",
    "    percent = wb.add_format({'num_format': '0.0000%'})\n",
    "        \n",
    "    # write frames to tabs\n",
    "    final.to_excel(writer, sheet_name=\"Summary\", index=False)\n",
    "    # fd.to_excel(writer, sheet_name=\"Fundings\", index=False)\n",
    "    # sv.to_excel(writer, sheet_name=\"Servicing\", index=False)\n",
    "    # ld.to_excel(writer, sheet_name=\"Leads\", index=False)\n",
    "    # dd.to_excel(writer, sheet_name=\"Deal Desk\", index=False)\n",
    "    \n",
    "    # FORMAT SHEETS\n",
    "    ## name sheets\n",
    "    sum_tab = writer.sheets[\"Summary\"]\n",
    "    # fd_tab = writer.sheets[\"Fundings\"]\n",
    "    # sv_tab = writer.sheets[\"Servicing\"]\n",
    "    # ld_tab = writer.sheets[\"Leads\"]\n",
    "    # dd_tab = writer.sheets[\"Deal Desk\"]\n",
    "    \n",
    "    # worksheets = {fd_tab:fd, sv_tab:sv, ld_tab:ld} # dd_tab:dd, \n",
    "    worksheets = {sum_tab:final} \n",
    "    \n",
    "    for sheet in worksheets.keys():\n",
    "        (max_row, max_col) = worksheets[sheet].shape\n",
    "        sheet.autofilter(0, 0, max_row, max_col - 1)"
   ]
  },
  {
   "cell_type": "code",
   "execution_count": null,
   "metadata": {},
   "outputs": [],
   "source": []
  }
 ],
 "metadata": {
  "kernelspec": {
   "display_name": "Python 3.10.4 64-bit",
   "language": "python",
   "name": "python3"
  },
  "language_info": {
   "codemirror_mode": {
    "name": "ipython",
    "version": 3
   },
   "file_extension": ".py",
   "mimetype": "text/x-python",
   "name": "python",
   "nbconvert_exporter": "python",
   "pygments_lexer": "ipython3",
   "version": "3.10.4"
  },
  "orig_nbformat": 4,
  "vscode": {
   "interpreter": {
    "hash": "443a06843225bba5fb5dcb311b234c0ad2973a039d9e18c6bbc6e17d70abcc8a"
   }
  }
 },
 "nbformat": 4,
 "nbformat_minor": 2
}
